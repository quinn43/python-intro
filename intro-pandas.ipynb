{
 "cells": [
  {
   "cell_type": "markdown",
   "metadata": {},
   "source": [
    "## Introduction to Data Analysis Using pandas\n",
    "A brief tutorial on using the pandas library for data analysis.<br> Greenpeace Investigations Skillshare, June 2019, Manila.\n",
    "\n",
    "### Table of Contents<a id='toc'></a>\n",
    "1. [Getting Started with Notebooks](#notebook)<br>\n",
    "2. [Reading and Viewing Data](#read)<br>\n",
    "3. [Selecting and Analyzing Data](#select)<br>\n",
    "4. [Plotting Data](#plot)<br>\n",
    "5. [Other Python Libraries](#other)<br>\n",
    "\n",
    "### 1. Getting Started with Notebooks<a id='notebooks'></a>"
   ]
  },
  {
   "cell_type": "markdown",
   "metadata": {},
   "source": [
    "Note on installing pandas:\n",
    "\n",
    "#### Markdown cells\n",
    "Jupyter notebooks let you combine your code with something called \"markdown\" cells. These let you add chapters and explanatory text, including <a href=\"www.greenpeace.org\">HTML</a> and LaTeX-style equations ($E=mc^2$) to your code. This allows you to convert your analysis into a readable document that describes everything you are doing and the steps you take to reach your conclusions. You can even save it as a HTML and share it with others.\n",
    "\n",
    "Double click on a markdown cell to see how it is constructed, then hit Shift-Return to execute it.\n",
    "\n",
    "#### Code cells"
   ]
  },
  {
   "cell_type": "markdown",
   "metadata": {},
   "source": [
    "Any line starting with # is a comment and is not executed. Hit Shift-Return to execute the cell and run the code."
   ]
  },
  {
   "cell_type": "code",
   "execution_count": 91,
   "metadata": {
    "collapsed": false
   },
   "outputs": [],
   "source": [
    "# you can do math\n",
    "#13+87"
   ]
  },
  {
   "cell_type": "code",
   "execution_count": 63,
   "metadata": {
    "collapsed": false
   },
   "outputs": [],
   "source": [
    "# print text (called 'strings')\n",
    "#print 'Hello Greenpeace Skillshare!'"
   ]
  },
  {
   "cell_type": "code",
   "execution_count": 64,
   "metadata": {
    "collapsed": false
   },
   "outputs": [],
   "source": [
    "# define variables\n",
    "#superhero = 'Ioana'\n",
    "#print \"Who will save us? \" + superhero + \"!\""
   ]
  },
  {
   "cell_type": "code",
   "execution_count": 65,
   "metadata": {
    "collapsed": false
   },
   "outputs": [],
   "source": [
    "# make lists of things and select them (called 'slicing')\n",
    "#supermajors = ['Exxon', 'BP', 'Shell', 'Chevron', 'Total']\n",
    "#supermajors[0:3]  # numbering starts at 0"
   ]
  },
  {
   "cell_type": "code",
   "execution_count": 66,
   "metadata": {
    "collapsed": false
   },
   "outputs": [],
   "source": [
    "# when you have a list you can iterate over it like this\n",
    "#for corp in supermajors:\n",
    "#    print \"#\" + corp + \"Shutdown\""
   ]
  },
  {
   "cell_type": "markdown",
   "metadata": {},
   "source": [
    "All of this is basic python. A really good FREE online resource for learning python is the <a href=\"https://developers.google.com/edu/python/\">Google Python Class</a>, which should take you about 7-8 hours to watch the videos and you learn a lot.\n",
    "\n",
    "### 2. Reading and Viewing Data<a id='read'></a>"
   ]
  },
  {
   "cell_type": "code",
   "execution_count": 67,
   "metadata": {
    "collapsed": true
   },
   "outputs": [],
   "source": [
    "# first import the library\n",
    "#import pandas"
   ]
  },
  {
   "cell_type": "code",
   "execution_count": 68,
   "metadata": {
    "collapsed": true
   },
   "outputs": [],
   "source": [
    "# create a DataFrame by loading in data from a file\n",
    "#spills = pandas.read_csv('spills_2010_present.csv')"
   ]
  },
  {
   "cell_type": "code",
   "execution_count": 69,
   "metadata": {
    "collapsed": false
   },
   "outputs": [],
   "source": [
    "# we can look at the DataFrame by typing its name\n",
    "#spills"
   ]
  },
  {
   "cell_type": "code",
   "execution_count": 70,
   "metadata": {
    "collapsed": false
   },
   "outputs": [],
   "source": [
    "# that's a lot of data, so there are ways to select just part of it\n",
    "#spills.head(3)"
   ]
  },
  {
   "cell_type": "code",
   "execution_count": 71,
   "metadata": {
    "collapsed": false
   },
   "outputs": [],
   "source": [
    "# we can select a column by name, or pass a list of column names\n",
    "#spills[['OPERATOR_ID', 'NAME']].head()"
   ]
  },
  {
   "cell_type": "code",
   "execution_count": 72,
   "metadata": {
    "collapsed": false
   },
   "outputs": [],
   "source": [
    "# we can select a row by index number\n",
    "#spills.iloc[0]"
   ]
  },
  {
   "cell_type": "code",
   "execution_count": 73,
   "metadata": {
    "collapsed": false
   },
   "outputs": [],
   "source": [
    "# you can also use python's \"slicing\" syntax to select multiple rows\n",
    "#spills.iloc[0:3]"
   ]
  },
  {
   "cell_type": "markdown",
   "metadata": {},
   "source": [
    "### 3. Selecting and Analyzing Data<a id='select'></a>"
   ]
  },
  {
   "cell_type": "code",
   "execution_count": 74,
   "metadata": {
    "collapsed": false
   },
   "outputs": [],
   "source": [
    "# one really useful thing you can do is create truth statements (called 'boolean array')...\n",
    "#spills['OPERATOR_ID']==32109"
   ]
  },
  {
   "cell_type": "code",
   "execution_count": 75,
   "metadata": {
    "collapsed": false
   },
   "outputs": [],
   "source": [
    "# ... this creates a filter, and we can then use these truth statements to select data\n",
    "# simply put the boolean array into the [brackets] of the DataFrame\n",
    "#spills[ spills['OPERATOR_ID']==32109 ]"
   ]
  },
  {
   "cell_type": "code",
   "execution_count": 76,
   "metadata": {
    "collapsed": false
   },
   "outputs": [],
   "source": [
    "# then you can use this to create a new, smaller DataFrame\n",
    "#oneok = spills[ spills['OPERATOR_ID']==32109 ]\n",
    "#oneok"
   ]
  },
  {
   "cell_type": "code",
   "execution_count": 77,
   "metadata": {
    "collapsed": false
   },
   "outputs": [],
   "source": [
    "# another super useful function does counting for you\n",
    "# so if we want to know what TYPE of spills are in the DataFrame\n",
    "#oneok['COMMODITY_RELEASED_TYPE'].value_counts()"
   ]
  },
  {
   "cell_type": "code",
   "execution_count": 78,
   "metadata": {
    "collapsed": false
   },
   "outputs": [],
   "source": [
    "# ...or the CAUSE of the spill\n",
    "#oneok['CAUSE'].value_counts()"
   ]
  },
  {
   "cell_type": "code",
   "execution_count": 79,
   "metadata": {
    "collapsed": false
   },
   "outputs": [],
   "source": [
    "# the powerful thing about DataFrames is you can combine these truth statements to get really specific data\n",
    "# spills[ (condition 1) & (condition 2) | (condition 3) ]\n",
    "# so to select only ONEOK spills caused by excavation damage...\n",
    "#spills[(spills['OPERATOR_ID']==32109) & (spills['CAUSE']=='EXCAVATION DAMAGE')]"
   ]
  },
  {
   "cell_type": "markdown",
   "metadata": {},
   "source": [
    "There are a LOT of things you can do with pandas, but here are a few more tips and tricks"
   ]
  },
  {
   "cell_type": "code",
   "execution_count": 80,
   "metadata": {
    "collapsed": false
   },
   "outputs": [],
   "source": [
    "# you can search for strings this way\n",
    "#spills[spills['NAME'].str.find('ENBRIDGE')!=-1]"
   ]
  },
  {
   "cell_type": "code",
   "execution_count": 81,
   "metadata": {
    "collapsed": false
   },
   "outputs": [],
   "source": [
    "# for combining subsidiaries, there's an easy construction\n",
    "#spills[spills['OPERATOR_ID'].isin(['32109', '994'])]"
   ]
  },
  {
   "cell_type": "code",
   "execution_count": 87,
   "metadata": {
    "collapsed": false
   },
   "outputs": [],
   "source": [
    "# sorting data, let's find the biggest spills\n",
    "#oneok.sort_values(by='UNINTENTIONAL_RELEASE_BBLS', ascending=False)[['LOCAL_DATETIME', 'UNINTENTIONAL_RELEASE_BBLS']]"
   ]
  },
  {
   "cell_type": "markdown",
   "metadata": {},
   "source": [
    "### 4. Plotting Data<a id='plot'></a>"
   ]
  },
  {
   "cell_type": "code",
   "execution_count": 96,
   "metadata": {
    "collapsed": true
   },
   "outputs": [],
   "source": [
    "%matplotlib inline\n",
    "# import the plotting library\n",
    "#import matplotlib.pyplot as plt\n",
    "#import numpy as np"
   ]
  },
  {
   "cell_type": "code",
   "execution_count": 89,
   "metadata": {
    "collapsed": false
   },
   "outputs": [],
   "source": [
    "#labels = oneok['CAUSE'].value_counts().index\n",
    "#values = oneok['CAUSE'].value_counts().values\n",
    "#xvals = np.arange(len(labels))\n",
    "#plt.bar(xvals, values)\n",
    "#plt.xticks(xvals, labels, rotation='vertical')\n",
    "#plt.title('Spill Cause')"
   ]
  },
  {
   "cell_type": "code",
   "execution_count": 90,
   "metadata": {
    "collapsed": true
   },
   "outputs": [],
   "source": [
    "# example: bar chart of spills by year\n",
    "# need to cast a column to datatime"
   ]
  },
  {
   "cell_type": "markdown",
   "metadata": {},
   "source": [
    "#### More plotting examples!\n",
    "\n",
    "Greenpeace reports\n",
    "<ul>\n",
    "<li><a href=\"https://www.greenpeace.org/usa/reports/tanker-superhighway/\">Tar Sands Tanker Superhighway</a>\n",
    "<li><a href=\"https://www.greenpeace.org/usa/reports/dangerous-pipelines/\">Dangerous Pipelines</a>\n",
    "<li><a href=\"https://www.greenpeace.org/usa/reports/fossil-fuel-phaseout/\">Fossil Fuel Phase Out</a>\n",
    "</ul>\n",
    "\n",
    "Matplotlib <a href=\"https://matplotlib.org/gallery.html\">Gallery</a>"
   ]
  },
  {
   "cell_type": "markdown",
   "metadata": {},
   "source": [
    "### 5. Other Python Libraries<a id='other'></a>\n",
    "\n",
    "<ul>\n",
    "<li>mapping and GIS: (see later session)\n",
    "<li>more advanced plotting, graphics, 3D, etc\n",
    "<li>web-scraping: BeautifulSoup, requests\n",
    "<li>interact with API: ex Twitter API (twython), OpenSecrets API\n",
    "<li>scientific analysis: scipy\n",
    "<li>network analysis: networkx (TechLab had a recent tutorial on using this!)\n",
    "<li>machine learning: scikit-learn, TensorFlow\n",
    "<li>other databases such as SQLite\n",
    "<li>interesting climate-related libraries: OpenClimate data, pyhector, pygcam\n",
    "<li>...and literally hundreds of other libraries that do almost everything\n",
    "</ul>"
   ]
  },
  {
   "cell_type": "markdown",
   "metadata": {},
   "source": [
    "#### Exercise: Who Is The Worst Spiller?"
   ]
  },
  {
   "cell_type": "code",
   "execution_count": 94,
   "metadata": {
    "collapsed": false
   },
   "outputs": [],
   "source": [
    "#spills['NAME'].value_counts()"
   ]
  },
  {
   "cell_type": "code",
   "execution_count": 95,
   "metadata": {
    "collapsed": true
   },
   "outputs": [],
   "source": [
    "# how to combine subsidiaries\n",
    "# what are some other metrics we might use? spills per volume? spills per mile of pipe?"
   ]
  },
  {
   "cell_type": "code",
   "execution_count": null,
   "metadata": {
    "collapsed": true
   },
   "outputs": [],
   "source": []
  }
 ],
 "metadata": {
  "kernelspec": {
   "display_name": "Python 2",
   "language": "python",
   "name": "python2"
  },
  "language_info": {
   "codemirror_mode": {
    "name": "ipython",
    "version": 2
   },
   "file_extension": ".py",
   "mimetype": "text/x-python",
   "name": "python",
   "nbconvert_exporter": "python",
   "pygments_lexer": "ipython2",
   "version": "2.7.13"
  }
 },
 "nbformat": 4,
 "nbformat_minor": 2
}
